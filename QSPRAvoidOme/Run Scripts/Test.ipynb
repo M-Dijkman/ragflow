{
 "cells": [
  {
   "cell_type": "code",
   "execution_count": null,
   "metadata": {},
   "outputs": [
    {
     "name": "stderr",
     "output_type": "stream",
     "text": [
      "qsprpred - WARNING - Explicitly specified random state (42)will override model settings read from file: 42.\n",
      "[I 2025-03-06 10:24:21,567] A new study created in memory with name: no-name-74bdbf50-859a-4553-81c9-29750a7cc134\n"
     ]
    },
    {
     "name": "stdout",
     "output_type": "stream",
     "text": [
      "(12440, 2048)\n",
      "(0, 2048)\n",
      "Index([], dtype='object', name='QSPRID')\n",
      "\n",
      "Training model using random_split...\n"
     ]
    },
    {
     "name": "stderr",
     "output_type": "stream",
     "text": [
      "[I 2025-03-06 10:24:35,925] Trial 0 finished with value: 0.6471652540894981 and parameters: {'n_estimators': 44}. Best is trial 0 with value: 0.6471652540894981.\n"
     ]
    },
    {
     "ename": "AttributeError",
     "evalue": "'SklearnModel' object has no attribute 'assessor'",
     "output_type": "error",
     "traceback": [
      "\u001b[0;31m---------------------------------------------------------------------------\u001b[0m",
      "\u001b[0;31mAttributeError\u001b[0m                            Traceback (most recent call last)",
      "Cell \u001b[0;32mIn[10], line 75\u001b[0m\n\u001b[1;32m     72\u001b[0m     optimizer\u001b[38;5;241m.\u001b[39moptimize(model, dataset)\n\u001b[1;32m     74\u001b[0m     \u001b[38;5;66;03m# Store model performance\u001b[39;00m\n\u001b[0;32m---> 75\u001b[0m     results[split_name] \u001b[38;5;241m=\u001b[39m \u001b[43mmodel\u001b[49m\u001b[38;5;241;43m.\u001b[39;49m\u001b[43massessor\u001b[49m\u001b[38;5;241m.\u001b[39mget_scores()\n\u001b[1;32m     76\u001b[0m     \u001b[38;5;28mprint\u001b[39m(\u001b[38;5;124mf\u001b[39m\u001b[38;5;124m\"\u001b[39m\u001b[38;5;132;01m{\u001b[39;00msplit_name\u001b[38;5;132;01m}\u001b[39;00m\u001b[38;5;124m performance: \u001b[39m\u001b[38;5;132;01m{\u001b[39;00mresults[split_name]\u001b[38;5;132;01m}\u001b[39;00m\u001b[38;5;124m\"\u001b[39m)\n\u001b[1;32m     78\u001b[0m \u001b[38;5;66;03m# Compare results across different splits\u001b[39;00m\n",
      "\u001b[0;31mAttributeError\u001b[0m: 'SklearnModel' object has no attribute 'assessor'"
     ]
    }
   ],
   "source": [
    "import os\n",
    "from qsprpred.models import SklearnModel, OptunaOptimization, CrossValAssessor\n",
    "from sklearn.ensemble import RandomForestClassifier\n",
    "from qsprpred.data import QSPRDataset, RandomSplit, BootstrapSplit\n",
    "from sklearn.model_selection import StratifiedShuffleSplit\n",
    "from qsprpred.data.descriptors.fingerprints import MorganFP\n",
    "\n",
    "# Ensure output directory exists\n",
    "os.makedirs(\"../output/models\", exist_ok=True)\n",
    "\n",
    "# Read receptor name\n",
    "with open(\"../output/data/receptor.txt\", \"r\") as file:\n",
    "    receptor = file.read().strip()\n",
    "\n",
    "# Load dataset\n",
    "dataset = QSPRDataset.fromTableFile(\n",
    "    filename=f\"../output/data/{receptor}_Dataset.tsv\",\n",
    "    store_dir=\"../output/data\",\n",
    "    name=f\"Splitting{receptor}Dataset\",\n",
    "    target_props=[{\"name\": \"pchembl_value_Mean\", \"task\": \"SINGLECLASS\", \"th\": [6.5]}],\n",
    "    random_state=42\n",
    ")\n",
    "\n",
    "# Add Morgan fingerprints\n",
    "dataset.addDescriptors([MorganFP(radius=3, nBits=2048)])\n",
    "dataset.getDescriptors().shape\n",
    "\n",
    "#check potential dataset split\n",
    "def print_split(ds):\n",
    "    train, test = ds.getFeatures()\n",
    "    print(train.shape)\n",
    "    print(test.shape)\n",
    "    print(test.index)\n",
    "\n",
    "print_split(dataset)\n",
    "\n",
    "# Define different splits to compare\n",
    "splits = {\n",
    "    \"random_split\": RandomSplit(0.2),\n",
    "    \"stratified_split\": StratifiedShuffleSplit(0.2),  # If dataset is imbalanced\n",
    "    \"bootstrap_split\": BootstrapSplit(split=RandomSplit(0.2), n_bootstraps=5)\n",
    "}\n",
    "\n",
    "# Search space for hyperparameter tuning\n",
    "search_space_rf = {\"n_estimators\": [\"int\", 10, 100, 250]}\n",
    "\n",
    "# Store results\n",
    "results = {}\n",
    "\n",
    "for split_name, split_method in splits.items():\n",
    "    print(f\"\\nTraining model using {split_name}...\")\n",
    "\n",
    "    # Define the model\n",
    "    model = SklearnModel(\n",
    "        base_dir=f\"../output/models/{split_name}/\",  # Separate directory per split\n",
    "        alg=RandomForestClassifier,\n",
    "        name=f\"{split_name}_{receptor}_Model\",\n",
    "        random_state=dataset.randomState\n",
    "    )\n",
    "\n",
    "    # Define optimizer with current split method\n",
    "    optimizer = OptunaOptimization(\n",
    "        param_grid=search_space_rf,\n",
    "        n_trials=1,  \n",
    "        model_assessor=CrossValAssessor(\n",
    "            scoring=\"roc_auc\",\n",
    "            split=split_method  # Use the current split method\n",
    "        )\n",
    "    )\n",
    "\n",
    "    # Train & optimize the model\n",
    "    optimizer.optimize(model, dataset)\n",
    "\n",
    "    # Store model performance\n",
    "    results[split_name] = \n",
    "    print(f\"{split_name} performance: {results[split_name]}\")\n",
    "\n",
    "# Compare results across different splits\n",
    "print(\"\\nComparison of Splitting Strategies:\")\n",
    "for split, score in results.items():\n",
    "    print(f\"{split}: {score}\")\n"
   ]
  }
 ],
 "metadata": {
  "kernelspec": {
   "display_name": "qsprpred",
   "language": "python",
   "name": "python3"
  },
  "language_info": {
   "codemirror_mode": {
    "name": "ipython",
    "version": 3
   },
   "file_extension": ".py",
   "mimetype": "text/x-python",
   "name": "python",
   "nbconvert_exporter": "python",
   "pygments_lexer": "ipython3",
   "version": "3.13.1"
  }
 },
 "nbformat": 4,
 "nbformat_minor": 2
}
