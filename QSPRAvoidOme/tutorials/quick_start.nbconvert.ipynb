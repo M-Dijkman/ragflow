{
 "cells": [
  {
   "cell_type": "markdown",
   "metadata": {},
   "source": [
    "# Quick start guide to QSPRpred"
   ]
  },
  {
   "cell_type": "markdown",
   "metadata": {},
   "source": [
    "Welcome to the quick start guide to QSPRpred.\n",
    "Here we will cover the fundamentals of using QSPRpred.\n",
    "We will show you how to create a dataset, train a Quantitative Structure-Property Relationship (QSPR) model, and make predictions.\n",
    "This tutorial is not meant as an introduction to QSPR modelling and assumes a base level of knowledge on the topic. If you are interested in getting started with QSPR modelling, you could have a look at these [TeachOpenCADD tutorials](https://projects.volkamerlab.org/teachopencadd/).\n",
    "\n",
    "While this tutorial provides a good starting point, there are many additional features that are not covered here.\n",
    "For more in-depth information, you can explore [the other tutorials](README.md) and consult the [documentation](https://cddleiden.github.io/QSPRpred/docs/).\n"
   ]
  },
  {
   "cell_type": "markdown",
   "metadata": {},
   "source": [
    "## Creating a dataset\n",
    "In this tutorial, we will work with a dataset containing bioactivity data for various compounds tested on the human adenosine A2A receptor. The data was collected from [Papyrus](https://github.com/OlivierBeq/Papyrus-scripts), a curated bioactivity database. The tutorial data is available through [OneDrive](https://1drv.ms/u/s!AtzWqu0inkjX3QRxXOkTFNv7IV7u?e=PPj0O2) (just unzip and place the two datasets `A2A_LIGANDS.tsv` and `AR_LIGANDS.tsv` in the `tutorial_data` folder) or recreate the dataset yourself by running `tutorial_data/create_tutorial_data.py`.\n",
    "\n",
    "To start we will load the tsv file containing the dataset."
   ]
  },
  {
   "cell_type": "code",
   "execution_count": 1,
   "metadata": {
    "execution": {
     "iopub.execute_input": "2025-02-06T16:14:31.757931Z",
     "iopub.status.busy": "2025-02-06T16:14:31.757720Z",
     "iopub.status.idle": "2025-02-06T16:14:32.017868Z",
     "shell.execute_reply": "2025-02-06T16:14:32.017530Z"
    }
   },
   "outputs": [
    {
     "data": {
      "text/html": [
       "<div>\n",
       "<style scoped>\n",
       "    .dataframe tbody tr th:only-of-type {\n",
       "        vertical-align: middle;\n",
       "    }\n",
       "\n",
       "    .dataframe tbody tr th {\n",
       "        vertical-align: top;\n",
       "    }\n",
       "\n",
       "    .dataframe thead th {\n",
       "        text-align: right;\n",
       "    }\n",
       "</style>\n",
       "<table border=\"1\" class=\"dataframe\">\n",
       "  <thead>\n",
       "    <tr style=\"text-align: right;\">\n",
       "      <th></th>\n",
       "      <th>SMILES</th>\n",
       "      <th>pchembl_value_Mean</th>\n",
       "      <th>Year</th>\n",
       "    </tr>\n",
       "  </thead>\n",
       "  <tbody>\n",
       "    <tr>\n",
       "      <th>0</th>\n",
       "      <td>Cc1nn(-c2cc(NC(=O)CCN(C)C)nc(-c3ccc(C)o3)n2)c(...</td>\n",
       "      <td>8.68</td>\n",
       "      <td>2008.0</td>\n",
       "    </tr>\n",
       "    <tr>\n",
       "      <th>1</th>\n",
       "      <td>Nc1c(C(=O)Nc2ccc([N+](=O)[O-])cc2)sc2c1cc1CCCC...</td>\n",
       "      <td>4.82</td>\n",
       "      <td>2010.0</td>\n",
       "    </tr>\n",
       "    <tr>\n",
       "      <th>2</th>\n",
       "      <td>O=C(Nc1nc2ncccc2n2c(=O)n(-c3ccccc3)nc12)c1ccccc1</td>\n",
       "      <td>5.65</td>\n",
       "      <td>2009.0</td>\n",
       "    </tr>\n",
       "    <tr>\n",
       "      <th>3</th>\n",
       "      <td>CNC(=O)C12CC1C(n1cnc3c1nc(C#CCCCCC(=O)OC)nc3NC...</td>\n",
       "      <td>5.45</td>\n",
       "      <td>2009.0</td>\n",
       "    </tr>\n",
       "    <tr>\n",
       "      <th>4</th>\n",
       "      <td>CCCn1c(=O)c2c(nc3cc(OC)ccn32)n(CCCNC(=O)c2ccc(...</td>\n",
       "      <td>5.20</td>\n",
       "      <td>2019.0</td>\n",
       "    </tr>\n",
       "  </tbody>\n",
       "</table>\n",
       "</div>"
      ],
      "text/plain": [
       "                                              SMILES  pchembl_value_Mean  \\\n",
       "0  Cc1nn(-c2cc(NC(=O)CCN(C)C)nc(-c3ccc(C)o3)n2)c(...                8.68   \n",
       "1  Nc1c(C(=O)Nc2ccc([N+](=O)[O-])cc2)sc2c1cc1CCCC...                4.82   \n",
       "2   O=C(Nc1nc2ncccc2n2c(=O)n(-c3ccccc3)nc12)c1ccccc1                5.65   \n",
       "3  CNC(=O)C12CC1C(n1cnc3c1nc(C#CCCCCC(=O)OC)nc3NC...                5.45   \n",
       "4  CCCn1c(=O)c2c(nc3cc(OC)ccn32)n(CCCNC(=O)c2ccc(...                5.20   \n",
       "\n",
       "     Year  \n",
       "0  2008.0  \n",
       "1  2010.0  \n",
       "2  2009.0  \n",
       "3  2009.0  \n",
       "4  2019.0  "
      ]
     },
     "execution_count": 1,
     "metadata": {},
     "output_type": "execute_result"
    }
   ],
   "source": [
    "import pandas as pd\n",
    "\n",
    "df = pd.read_csv('tutorial_data/A2A_LIGANDS.tsv', sep='\\t')\n",
    "\n",
    "df.head()"
   ]
  },
  {
   "cell_type": "markdown",
   "metadata": {},
   "source": [
    "Now we will create a `QSPRDataset` object from the data.\n",
    "This object contains the data and metadata for the dataset, and can be used to train a QSPR model. Note that the modelling task (regression) and the target property (pchembl_value_Mean) are specified when creating the dataset.\n",
    "We set a random seed to ensure reproducibility, which is used for any random processes in the data preparation, such as splitting the data into training and test sets and shuffling of the dataframe."
   ]
  },
  {
   "cell_type": "code",
   "execution_count": 2,
   "metadata": {
    "execution": {
     "iopub.execute_input": "2025-02-06T16:14:32.047601Z",
     "iopub.status.busy": "2025-02-06T16:14:32.047375Z",
     "iopub.status.idle": "2025-02-06T16:14:33.879140Z",
     "shell.execute_reply": "2025-02-06T16:14:33.878762Z"
    }
   },
   "outputs": [
    {
     "data": {
      "text/html": [
       "<div>\n",
       "<style scoped>\n",
       "    .dataframe tbody tr th:only-of-type {\n",
       "        vertical-align: middle;\n",
       "    }\n",
       "\n",
       "    .dataframe tbody tr th {\n",
       "        vertical-align: top;\n",
       "    }\n",
       "\n",
       "    .dataframe thead th {\n",
       "        text-align: right;\n",
       "    }\n",
       "</style>\n",
       "<table border=\"1\" class=\"dataframe\">\n",
       "  <thead>\n",
       "    <tr style=\"text-align: right;\">\n",
       "      <th></th>\n",
       "      <th>SMILES</th>\n",
       "      <th>pchembl_value_Mean</th>\n",
       "      <th>Year</th>\n",
       "      <th>QSPRID</th>\n",
       "      <th>pchembl_value_Mean_original</th>\n",
       "    </tr>\n",
       "    <tr>\n",
       "      <th>QSPRID</th>\n",
       "      <th></th>\n",
       "      <th></th>\n",
       "      <th></th>\n",
       "      <th></th>\n",
       "      <th></th>\n",
       "    </tr>\n",
       "  </thead>\n",
       "  <tbody>\n",
       "    <tr>\n",
       "      <th>QuickStartDataset_0000</th>\n",
       "      <td>Cc1nn(-c2cc(NC(=O)CCN(C)C)nc(-c3ccc(C)o3)n2)c(...</td>\n",
       "      <td>8.68</td>\n",
       "      <td>2008.0</td>\n",
       "      <td>QuickStartDataset_0000</td>\n",
       "      <td>8.68</td>\n",
       "    </tr>\n",
       "    <tr>\n",
       "      <th>QuickStartDataset_0001</th>\n",
       "      <td>Nc1c(C(=O)Nc2ccc([N+](=O)[O-])cc2)sc2c1cc1CCCC...</td>\n",
       "      <td>4.82</td>\n",
       "      <td>2010.0</td>\n",
       "      <td>QuickStartDataset_0001</td>\n",
       "      <td>4.82</td>\n",
       "    </tr>\n",
       "    <tr>\n",
       "      <th>QuickStartDataset_0002</th>\n",
       "      <td>O=C(Nc1nc2ncccc2n2c(=O)n(-c3ccccc3)nc12)c1ccccc1</td>\n",
       "      <td>5.65</td>\n",
       "      <td>2009.0</td>\n",
       "      <td>QuickStartDataset_0002</td>\n",
       "      <td>5.65</td>\n",
       "    </tr>\n",
       "    <tr>\n",
       "      <th>QuickStartDataset_0003</th>\n",
       "      <td>CNC(=O)C12CC1C(n1cnc3c1nc(C#CCCCCC(=O)OC)nc3NC...</td>\n",
       "      <td>5.45</td>\n",
       "      <td>2009.0</td>\n",
       "      <td>QuickStartDataset_0003</td>\n",
       "      <td>5.45</td>\n",
       "    </tr>\n",
       "    <tr>\n",
       "      <th>QuickStartDataset_0004</th>\n",
       "      <td>CCCn1c(=O)c2c(nc3cc(OC)ccn32)n(CCCNC(=O)c2ccc(...</td>\n",
       "      <td>5.20</td>\n",
       "      <td>2019.0</td>\n",
       "      <td>QuickStartDataset_0004</td>\n",
       "      <td>5.20</td>\n",
       "    </tr>\n",
       "    <tr>\n",
       "      <th>...</th>\n",
       "      <td>...</td>\n",
       "      <td>...</td>\n",
       "      <td>...</td>\n",
       "      <td>...</td>\n",
       "      <td>...</td>\n",
       "    </tr>\n",
       "    <tr>\n",
       "      <th>QuickStartDataset_4077</th>\n",
       "      <td>CNc1ncc(C(=O)NCc2ccc(OC)cc2)c2nc(-c3ccco3)nn12</td>\n",
       "      <td>7.09</td>\n",
       "      <td>2018.0</td>\n",
       "      <td>QuickStartDataset_4077</td>\n",
       "      <td>7.09</td>\n",
       "    </tr>\n",
       "    <tr>\n",
       "      <th>QuickStartDataset_4078</th>\n",
       "      <td>Nc1nc(-c2ccco2)c2ncn(C(=O)NCCc3ccccc3)c2n1</td>\n",
       "      <td>8.22</td>\n",
       "      <td>2008.0</td>\n",
       "      <td>QuickStartDataset_4078</td>\n",
       "      <td>8.22</td>\n",
       "    </tr>\n",
       "    <tr>\n",
       "      <th>QuickStartDataset_4079</th>\n",
       "      <td>Nc1nc(Nc2ccc(F)cc2)nc(CSc2nnc(N)s2)n1</td>\n",
       "      <td>4.89</td>\n",
       "      <td>2010.0</td>\n",
       "      <td>QuickStartDataset_4079</td>\n",
       "      <td>4.89</td>\n",
       "    </tr>\n",
       "    <tr>\n",
       "      <th>QuickStartDataset_4080</th>\n",
       "      <td>CCCOc1ccc(C=Cc2cc3c(c(=O)n(C)c(=O)n3C)n2C)cc1</td>\n",
       "      <td>6.51</td>\n",
       "      <td>2013.0</td>\n",
       "      <td>QuickStartDataset_4080</td>\n",
       "      <td>6.51</td>\n",
       "    </tr>\n",
       "    <tr>\n",
       "      <th>QuickStartDataset_4081</th>\n",
       "      <td>CCOC(=O)c1cnc(NCC(C)C)n2nc(-c3ccco3)nc12</td>\n",
       "      <td>7.35</td>\n",
       "      <td>2014.0</td>\n",
       "      <td>QuickStartDataset_4081</td>\n",
       "      <td>7.35</td>\n",
       "    </tr>\n",
       "  </tbody>\n",
       "</table>\n",
       "<p>4082 rows × 5 columns</p>\n",
       "</div>"
      ],
      "text/plain": [
       "                                                                   SMILES  \\\n",
       "QSPRID                                                                      \n",
       "QuickStartDataset_0000  Cc1nn(-c2cc(NC(=O)CCN(C)C)nc(-c3ccc(C)o3)n2)c(...   \n",
       "QuickStartDataset_0001  Nc1c(C(=O)Nc2ccc([N+](=O)[O-])cc2)sc2c1cc1CCCC...   \n",
       "QuickStartDataset_0002   O=C(Nc1nc2ncccc2n2c(=O)n(-c3ccccc3)nc12)c1ccccc1   \n",
       "QuickStartDataset_0003  CNC(=O)C12CC1C(n1cnc3c1nc(C#CCCCCC(=O)OC)nc3NC...   \n",
       "QuickStartDataset_0004  CCCn1c(=O)c2c(nc3cc(OC)ccn32)n(CCCNC(=O)c2ccc(...   \n",
       "...                                                                   ...   \n",
       "QuickStartDataset_4077     CNc1ncc(C(=O)NCc2ccc(OC)cc2)c2nc(-c3ccco3)nn12   \n",
       "QuickStartDataset_4078         Nc1nc(-c2ccco2)c2ncn(C(=O)NCCc3ccccc3)c2n1   \n",
       "QuickStartDataset_4079              Nc1nc(Nc2ccc(F)cc2)nc(CSc2nnc(N)s2)n1   \n",
       "QuickStartDataset_4080      CCCOc1ccc(C=Cc2cc3c(c(=O)n(C)c(=O)n3C)n2C)cc1   \n",
       "QuickStartDataset_4081           CCOC(=O)c1cnc(NCC(C)C)n2nc(-c3ccco3)nc12   \n",
       "\n",
       "                        pchembl_value_Mean    Year                  QSPRID  \\\n",
       "QSPRID                                                                       \n",
       "QuickStartDataset_0000                8.68  2008.0  QuickStartDataset_0000   \n",
       "QuickStartDataset_0001                4.82  2010.0  QuickStartDataset_0001   \n",
       "QuickStartDataset_0002                5.65  2009.0  QuickStartDataset_0002   \n",
       "QuickStartDataset_0003                5.45  2009.0  QuickStartDataset_0003   \n",
       "QuickStartDataset_0004                5.20  2019.0  QuickStartDataset_0004   \n",
       "...                                    ...     ...                     ...   \n",
       "QuickStartDataset_4077                7.09  2018.0  QuickStartDataset_4077   \n",
       "QuickStartDataset_4078                8.22  2008.0  QuickStartDataset_4078   \n",
       "QuickStartDataset_4079                4.89  2010.0  QuickStartDataset_4079   \n",
       "QuickStartDataset_4080                6.51  2013.0  QuickStartDataset_4080   \n",
       "QuickStartDataset_4081                7.35  2014.0  QuickStartDataset_4081   \n",
       "\n",
       "                        pchembl_value_Mean_original  \n",
       "QSPRID                                               \n",
       "QuickStartDataset_0000                         8.68  \n",
       "QuickStartDataset_0001                         4.82  \n",
       "QuickStartDataset_0002                         5.65  \n",
       "QuickStartDataset_0003                         5.45  \n",
       "QuickStartDataset_0004                         5.20  \n",
       "...                                             ...  \n",
       "QuickStartDataset_4077                         7.09  \n",
       "QuickStartDataset_4078                         8.22  \n",
       "QuickStartDataset_4079                         4.89  \n",
       "QuickStartDataset_4080                         6.51  \n",
       "QuickStartDataset_4081                         7.35  \n",
       "\n",
       "[4082 rows x 5 columns]"
      ]
     },
     "execution_count": 2,
     "metadata": {},
     "output_type": "execute_result"
    }
   ],
   "source": [
    "from qsprpred.data import QSPRDataset\n",
    "import os\n",
    "\n",
    "os.makedirs(\"tutorial_output/data\", exist_ok=True)\n",
    "\n",
    "dataset = QSPRDataset(\n",
    "    df=df,\n",
    "    store_dir=\"tutorial_output/data\",\n",
    "    name=\"QuickStartDataset\",\n",
    "    target_props=[{\"name\": \"pchembl_value_Mean\", \"task\": \"REGRESSION\"}],\n",
    "    random_state=42\n",
    ")\n",
    "\n",
    "dataset.getDF()"
   ]
  },
  {
   "cell_type": "markdown",
   "metadata": {},
   "source": [
    "After creating the dataset, we need to prepare it for model training.\n",
    "To do this we need to specifiy what molecule descriptors to calculate as features for the model.\n",
    "Here we will calculate Morgan fingerprints.\n",
    "We will also specify what type of split to use to split the data into training and test sets.\n",
    "In this example we will use a random split with 80% of the data for training and 20% for testing.\n",
    "\n",
    "Finally, we will save the dataset so we can re-load it later for reproducibility and good data management purposes.\n",
    "This also means we can skip the data preparation step next time we want to train a model on this dataset."
   ]
  },
  {
   "cell_type": "code",
   "execution_count": 3,
   "metadata": {
    "execution": {
     "iopub.execute_input": "2025-02-06T16:14:33.881054Z",
     "iopub.status.busy": "2025-02-06T16:14:33.880763Z",
     "iopub.status.idle": "2025-02-06T16:14:42.043089Z",
     "shell.execute_reply": "2025-02-06T16:14:42.042633Z"
    }
   },
   "outputs": [
    {
     "name": "stdout",
     "output_type": "stream",
     "text": [
      "Number of samples in train set: 3265\n",
      "Number of samples in test set: 817\n"
     ]
    }
   ],
   "source": [
    "from qsprpred.data.descriptors.fingerprints import MorganFP\n",
    "from qsprpred.data import RandomSplit\n",
    "\n",
    "# Specifiy random split for creating the train (80%) and test set (20%)\n",
    "rand_split = RandomSplit(test_fraction=0.2, dataset=dataset)\n",
    "\n",
    "# calculate compound features and split dataset into train and test\n",
    "dataset.prepareDataset(\n",
    "    split=rand_split,\n",
    "    feature_calculators=[MorganFP(radius=3, nBits=2048)],\n",
    ")\n",
    "\n",
    "print(f\"Number of samples in train set: {len(dataset.y)}\")\n",
    "print(f\"Number of samples in test set: {len(dataset.y_ind)}\")\n",
    "\n",
    "dataset.save()"
   ]
  },
  {
   "cell_type": "markdown",
   "metadata": {},
   "source": [
    "## Training a model"
   ]
  },
  {
   "cell_type": "markdown",
   "metadata": {},
   "source": [
    "Having successfully created a dataset, we can now train a QSAR model.\n",
    "Here we will train a model using the `KNeighborsRegressor` estimator from scikit-learn.\n",
    "\n",
    "To do this we first need to create a `QSPRModel` object, which contains the estimator and metadata for the model.\n",
    "We will use the `SklearnModel` subclass, which is a wrapper for scikit-learn models.\n",
    "\n",
    "In this example: the training of our model is divided into three steps:\n",
    "* cross-validation: estimate the performance of the model on the training set\n",
    "* test set evaluation: estimate the performance of the model on the test set\n",
    "* full training: train the model on the full dataset, to be used for making predictions"
   ]
  },
  {
   "cell_type": "code",
   "execution_count": 4,
   "metadata": {
    "execution": {
     "iopub.execute_input": "2025-02-06T16:14:42.044915Z",
     "iopub.status.busy": "2025-02-06T16:14:42.044694Z",
     "iopub.status.idle": "2025-02-06T16:14:46.977052Z",
     "shell.execute_reply": "2025-02-06T16:14:46.976437Z"
    }
   },
   "outputs": [
    {
     "name": "stderr",
     "output_type": "stream",
     "text": [
      "qsprpred - WARNING - Random state supplied, but alg <class 'sklearn.neighbors._regression.KNeighborsRegressor'> does not support it. Ignoring this setting.\n"
     ]
    }
   ],
   "source": [
    "from qsprpred.models import SklearnModel\n",
    "from sklearn.neighbors import KNeighborsRegressor\n",
    "from qsprpred.models import CrossValAssessor, TestSetAssessor\n",
    "\n",
    "os.makedirs(\"tutorial_output/models\", exist_ok=True)\n",
    "\n",
    "# This is an SKlearn model, so we will initialize it with the SklearnModel class\n",
    "model = SklearnModel(\n",
    "    base_dir=\"tutorial_output/models\",\n",
    "    alg=KNeighborsRegressor,\n",
    "    name=\"QuickStartModel\"\n",
    ")\n",
    "\n",
    "# We can now assess the model performance on the training set using cross validation\n",
    "CrossValAssessor(\"r2\")(model, dataset)\n",
    "\n",
    "# and on the test set\n",
    "TestSetAssessor(\"r2\")(model, dataset)\n",
    "\n",
    "# Finally, we need to fit the model on the complete dataset if we want to use it further\n",
    "# This will save the fitted model and metadata to disk\n",
    "model.fitDataset(dataset)\n",
    "\n",
    "# We can optionally save the model and metadata to disk explicitly as well\n",
    "_ = model.save()"
   ]
  },
  {
   "cell_type": "markdown",
   "metadata": {},
   "source": [
    "The results can be easily visualized using the `CorrelationPlot` class"
   ]
  },
  {
   "cell_type": "code",
   "execution_count": 5,
   "metadata": {
    "execution": {
     "iopub.execute_input": "2025-02-06T16:14:46.979400Z",
     "iopub.status.busy": "2025-02-06T16:14:46.979152Z",
     "iopub.status.idle": "2025-02-06T16:14:48.054244Z",
     "shell.execute_reply": "2025-02-06T16:14:48.053872Z"
    }
   },
   "outputs": [
    {
     "name": "stdout",
     "output_type": "stream",
     "text": [
      "QuickStartModel\n"
     ]
    },
    {
     "data": {
      "image/png": "[encoded data removed]",
      "text/plain": [
       "<Figure size 569.5x400 with 1 Axes>"
      ]
     },
     "metadata": {},
     "output_type": "display_data"
    },
    {
     "data": {
      "text/plain": [
       "<Figure size 640x480 with 0 Axes>"
      ]
     },
     "metadata": {},
     "output_type": "display_data"
    }
   ],
   "source": [
    "from qsprpred.plotting.regression import CorrelationPlot\n",
    "\n",
    "plot = CorrelationPlot([model])\n",
    "axes, summary = plot.make(save=False, show=True)"
   ]
  },
  {
   "cell_type": "markdown",
   "metadata": {},
   "source": [
    "In addition, the plot provides a summary of some commonly used metrics:"
   ]
  },
  {
   "cell_type": "code",
   "execution_count": 6,
   "metadata": {
    "execution": {
     "iopub.execute_input": "2025-02-06T16:14:48.055946Z",
     "iopub.status.busy": "2025-02-06T16:14:48.055731Z",
     "iopub.status.idle": "2025-02-06T16:14:48.061912Z",
     "shell.execute_reply": "2025-02-06T16:14:48.061604Z"
    }
   },
   "outputs": [
    {
     "data": {
      "text/html": [
       "<div>\n",
       "<style scoped>\n",
       "    .dataframe tbody tr th:only-of-type {\n",
       "        vertical-align: middle;\n",
       "    }\n",
       "\n",
       "    .dataframe tbody tr th {\n",
       "        vertical-align: top;\n",
       "    }\n",
       "\n",
       "    .dataframe thead th {\n",
       "        text-align: right;\n",
       "    }\n",
       "</style>\n",
       "<table border=\"1\" class=\"dataframe\">\n",
       "  <thead>\n",
       "    <tr style=\"text-align: right;\">\n",
       "      <th></th>\n",
       "      <th>Model</th>\n",
       "      <th>Fold</th>\n",
       "      <th>Property</th>\n",
       "      <th>R2</th>\n",
       "      <th>RMSE</th>\n",
       "      <th>Set</th>\n",
       "    </tr>\n",
       "  </thead>\n",
       "  <tbody>\n",
       "    <tr>\n",
       "      <th>0</th>\n",
       "      <td>QuickStartModel</td>\n",
       "      <td>0.0</td>\n",
       "      <td>pchembl_value_Mean</td>\n",
       "      <td>0.633782</td>\n",
       "      <td>0.701094</td>\n",
       "      <td>Cross Validation</td>\n",
       "    </tr>\n",
       "    <tr>\n",
       "      <th>1</th>\n",
       "      <td>QuickStartModel</td>\n",
       "      <td>1.0</td>\n",
       "      <td>pchembl_value_Mean</td>\n",
       "      <td>0.645993</td>\n",
       "      <td>0.699828</td>\n",
       "      <td>Cross Validation</td>\n",
       "    </tr>\n",
       "    <tr>\n",
       "      <th>2</th>\n",
       "      <td>QuickStartModel</td>\n",
       "      <td>2.0</td>\n",
       "      <td>pchembl_value_Mean</td>\n",
       "      <td>0.672131</td>\n",
       "      <td>0.657003</td>\n",
       "      <td>Cross Validation</td>\n",
       "    </tr>\n",
       "    <tr>\n",
       "      <th>3</th>\n",
       "      <td>QuickStartModel</td>\n",
       "      <td>3.0</td>\n",
       "      <td>pchembl_value_Mean</td>\n",
       "      <td>0.652610</td>\n",
       "      <td>0.670251</td>\n",
       "      <td>Cross Validation</td>\n",
       "    </tr>\n",
       "    <tr>\n",
       "      <th>4</th>\n",
       "      <td>QuickStartModel</td>\n",
       "      <td>4.0</td>\n",
       "      <td>pchembl_value_Mean</td>\n",
       "      <td>0.577333</td>\n",
       "      <td>0.761446</td>\n",
       "      <td>Cross Validation</td>\n",
       "    </tr>\n",
       "    <tr>\n",
       "      <th>5</th>\n",
       "      <td>QuickStartModel</td>\n",
       "      <td>Independent Test</td>\n",
       "      <td>pchembl_value_Mean</td>\n",
       "      <td>0.630676</td>\n",
       "      <td>0.713425</td>\n",
       "      <td>Independent Test</td>\n",
       "    </tr>\n",
       "  </tbody>\n",
       "</table>\n",
       "</div>"
      ],
      "text/plain": [
       "             Model              Fold            Property        R2      RMSE  \\\n",
       "0  QuickStartModel               0.0  pchembl_value_Mean  0.633782  0.701094   \n",
       "1  QuickStartModel               1.0  pchembl_value_Mean  0.645993  0.699828   \n",
       "2  QuickStartModel               2.0  pchembl_value_Mean  0.672131  0.657003   \n",
       "3  QuickStartModel               3.0  pchembl_value_Mean  0.652610  0.670251   \n",
       "4  QuickStartModel               4.0  pchembl_value_Mean  0.577333  0.761446   \n",
       "5  QuickStartModel  Independent Test  pchembl_value_Mean  0.630676  0.713425   \n",
       "\n",
       "                Set  \n",
       "0  Cross Validation  \n",
       "1  Cross Validation  \n",
       "2  Cross Validation  \n",
       "3  Cross Validation  \n",
       "4  Cross Validation  \n",
       "5  Independent Test  "
      ]
     },
     "execution_count": 6,
     "metadata": {},
     "output_type": "execute_result"
    }
   ],
   "source": [
    "summary"
   ]
  },
  {
   "cell_type": "markdown",
   "metadata": {},
   "source": [
    "## Making predictions"
   ]
  },
  {
   "cell_type": "markdown",
   "metadata": {},
   "source": [
    "After training the model, we can use it to make predictions on new compounds."
   ]
  },
  {
   "cell_type": "code",
   "execution_count": 7,
   "metadata": {
    "execution": {
     "iopub.execute_input": "2025-02-06T16:14:48.063441Z",
     "iopub.status.busy": "2025-02-06T16:14:48.063260Z",
     "iopub.status.idle": "2025-02-06T16:14:48.369327Z",
     "shell.execute_reply": "2025-02-06T16:14:48.368967Z"
    }
   },
   "outputs": [
    {
     "data": {
      "text/plain": [
       "array([[6.39 ],\n",
       "       [5.202],\n",
       "       [6.424]])"
      ]
     },
     "execution_count": 7,
     "metadata": {},
     "output_type": "execute_result"
    }
   ],
   "source": [
    "smiles_list = [\"c1(cc(c(O)cc1)O)CCN\", \"CC(=O)OC1=CC=CC=C1C(=O)O\",\n",
    "               \"CC(C)CC1=CC=C(C=C1)C(C)C(=O)O\"]\n",
    "\n",
    "model.predictMols(smiles_list)"
   ]
  },
  {
   "cell_type": "markdown",
   "metadata": {},
   "source": [
    "## Reloading\n",
    "\n",
    "The `QSPRDataset` and `QSPRModel` objects can be easily reloaded from disk using the `fromFile` methods as long as they had been save before."
   ]
  },
  {
   "cell_type": "code",
   "execution_count": 8,
   "metadata": {
    "execution": {
     "iopub.execute_input": "2025-02-06T16:14:48.371183Z",
     "iopub.status.busy": "2025-02-06T16:14:48.370959Z",
     "iopub.status.idle": "2025-02-06T16:14:50.766746Z",
     "shell.execute_reply": "2025-02-06T16:14:50.766160Z"
    }
   },
   "outputs": [],
   "source": [
    "dataset = QSPRDataset.fromFile(\n",
    "    \"./tutorial_output/data/QuickStartDataset/QuickStartDataset_meta.json\")\n",
    "model = SklearnModel.fromFile(\n",
    "    \"./tutorial_output/models/QuickStartModel/QuickStartModel_meta.json\")\n",
    "# or\n",
    "dataset = QSPRDataset(\n",
    "    name=\"QuickStartDataset\",\n",
    "    store_dir=\"./tutorial_output/data/\",\n",
    ")\n",
    "model = SklearnModel(\n",
    "    name=\"QuickStartModel\",\n",
    "    base_dir=\"./tutorial_output/models/\"\n",
    ")"
   ]
  },
  {
   "cell_type": "markdown",
   "metadata": {},
   "source": [
    "The loaded model can naturally be used for prediction again just as shown above:"
   ]
  },
  {
   "cell_type": "code",
   "execution_count": 9,
   "metadata": {
    "execution": {
     "iopub.execute_input": "2025-02-06T16:14:50.769104Z",
     "iopub.status.busy": "2025-02-06T16:14:50.768870Z",
     "iopub.status.idle": "2025-02-06T16:14:51.077546Z",
     "shell.execute_reply": "2025-02-06T16:14:51.077168Z"
    }
   },
   "outputs": [
    {
     "data": {
      "text/plain": [
       "array([[6.39 ],\n",
       "       [5.202],\n",
       "       [6.424]])"
      ]
     },
     "execution_count": 9,
     "metadata": {},
     "output_type": "execute_result"
    }
   ],
   "source": [
    "model.predictMols(smiles_list)"
   ]
  },
  {
   "cell_type": "markdown",
   "metadata": {},
   "source": [
    "## What's next?\n",
    "\n",
    "This tutorial has covered the basics of using QSPRpred. If you are new to QSPRpred and interested in learning more, we recommend you check out the [data representation tutorial](basics/data/data_representation.ipynb) next.\n",
    "If you are looking for a specific topic, you can have a look in the [list of tutorials](README.md)."
   ]
  }
 ],
 "metadata": {
  "kernelspec": {
   "display_name": "qsprpred",
   "language": "python",
   "name": "python3"
  },
  "language_info": {
   "codemirror_mode": {
    "name": "ipython",
    "version": 3
   },
   "file_extension": ".py",
   "mimetype": "text/x-python",
   "name": "python",
   "nbconvert_exporter": "python",
   "pygments_lexer": "ipython3",
   "version": "3.13.1"
  }
 },
 "nbformat": 4,
 "nbformat_minor": 4
}
